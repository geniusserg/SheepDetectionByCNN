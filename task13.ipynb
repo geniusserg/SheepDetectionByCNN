{
 "cells": [
  {
   "cell_type": "markdown",
   "metadata": {},
   "source": [
    "# Object detection: Sheeps"
   ]
  },
  {
   "cell_type": "markdown",
   "metadata": {},
   "source": [
    "In this notebook I tried to use Convolution NN to detect areas with sheeps on photo. \n",
    "\n",
    "Models: \n",
    "\n",
    "1) CNN - FC - 4*10 coordinates of bounding box\n",
    "2) CNN - 30 features - UpSampling -> 273*273 probabilities that in this pixel there is sheep\n",
    "\n",
    "Images resized to 273x273 arrays with 3 channels\n",
    "\n",
    "Results are evaluated by MSE metric and average IoU between regions"
   ]
  },
  {
   "cell_type": "code",
   "execution_count": 42,
   "metadata": {},
   "outputs": [],
   "source": [
    "import xml.etree.ElementTree as ET\n",
    "import cv2\n",
    "import numpy as np\n",
    "from sklearn.model_selection import train_test_split\n",
    "import matplotlib.pyplot as plt"
   ]
  },
  {
   "cell_type": "markdown",
   "metadata": {},
   "source": [
    "Parse XMLs and load images"
   ]
  },
  {
   "cell_type": "code",
   "execution_count": 43,
   "metadata": {},
   "outputs": [
    {
     "ename": "KeyboardInterrupt",
     "evalue": "",
     "output_type": "error",
     "traceback": [
      "\u001b[1;31m---------------------------------------------------------------------------\u001b[0m",
      "\u001b[1;31mKeyboardInterrupt\u001b[0m                         Traceback (most recent call last)",
      "Cell \u001b[1;32mIn [43], line 21\u001b[0m\n\u001b[0;32m     19\u001b[0m img \u001b[39m=\u001b[39m img \u001b[39m/\u001b[39m \u001b[39m255\u001b[39m\n\u001b[0;32m     20\u001b[0m sheep \u001b[39m=\u001b[39m {\u001b[39m\"\u001b[39m\u001b[39mimage\u001b[39m\u001b[39m\"\u001b[39m: img, \u001b[39m\"\u001b[39m\u001b[39mobjects\u001b[39m\u001b[39m\"\u001b[39m: objects, \u001b[39m\"\u001b[39m\u001b[39mwidth\u001b[39m\u001b[39m\"\u001b[39m: width, \u001b[39m\"\u001b[39m\u001b[39mheight\u001b[39m\u001b[39m\"\u001b[39m: height}\n\u001b[1;32m---> 21\u001b[0m sheeps\u001b[39m.\u001b[39;49mappend(sheep)\n",
      "\u001b[1;31mKeyboardInterrupt\u001b[0m: "
     ]
    }
   ],
   "source": [
    "sheeps = []\n",
    "for i in range(203):\n",
    "    path = f'.\\\\data\\\\annotations\\\\sheep{i}.xml'\n",
    "    tree = ET.parse(path)\n",
    "    root = tree.getroot()\n",
    "    objects = []\n",
    "    width = int(root.find(\"size/width\").text)\n",
    "    height = int(root.find(\"size/height\").text)\n",
    "    for b in root.findall(\"object/bndbox\"):\n",
    "        xy = []\n",
    "        xy.append(int(b.find(\"xmin\").text))\n",
    "        xy.append(int(b.find(\"xmax\").text))\n",
    "        xy.append(int(b.find(\"ymin\").text))\n",
    "        xy.append(int(b.find(\"ymax\").text))\n",
    "        objects.append(xy)\n",
    "    path = f'.\\\\data\\\\images\\\\sheep{i}.png'\n",
    "    img = cv2.imread(path)\n",
    "    img = cv2.resize(img, (273, 273))\n",
    "    img = img / 255\n",
    "    sheep = {\"image\": img, \"objects\": objects, \"width\": width, \"height\": height}\n",
    "    sheeps.append(sheep)"
   ]
  },
  {
   "cell_type": "markdown",
   "metadata": {},
   "source": [
    "### EDA"
   ]
  },
  {
   "cell_type": "markdown",
   "metadata": {},
   "source": [
    "Maximum count of bounding boxes"
   ]
  },
  {
   "cell_type": "code",
   "execution_count": null,
   "metadata": {},
   "outputs": [
    {
     "data": {
      "text/plain": [
       "6"
      ]
     },
     "execution_count": 3,
     "metadata": {},
     "output_type": "execute_result"
    }
   ],
   "source": [
    "max_len = 0\n",
    "for s in sheeps:\n",
    "    max_len = max(len(s[\"objects\"]), max_len)\n",
    "max_len"
   ]
  },
  {
   "cell_type": "markdown",
   "metadata": {},
   "source": [
    "Max Image"
   ]
  },
  {
   "cell_type": "code",
   "execution_count": null,
   "metadata": {},
   "outputs": [
    {
     "data": {
      "text/plain": [
       "[[600, 450]]"
      ]
     },
     "execution_count": 4,
     "metadata": {},
     "output_type": "execute_result"
    }
   ],
   "source": [
    "max_s = 0\n",
    "for s in sheeps:\n",
    "    if (s[\"width\"]*s[\"height\"] >  max_s):\n",
    "        max_s = s[\"width\"]*s[\"height\"]\n",
    "s_t = []\n",
    "for s in sheeps:\n",
    "    if (s[\"width\"]*s[\"height\"] ==  max_s):\n",
    "        s_t.append([s[\"width\"],s[\"height\"]])\n",
    "s_t"
   ]
  },
  {
   "cell_type": "markdown",
   "metadata": {},
   "source": [
    "Counts of sheeps"
   ]
  },
  {
   "cell_type": "code",
   "execution_count": null,
   "metadata": {},
   "outputs": [
    {
     "data": {
      "text/plain": [
       "[117, 57, 20, 7, 0, 2]"
      ]
     },
     "execution_count": 5,
     "metadata": {},
     "output_type": "execute_result"
    }
   ],
   "source": [
    "c = [0 for i in range(6)]\n",
    "for s in sheeps:\n",
    "    c[len(s[\"objects\"])-1] += 1\n",
    "c"
   ]
  },
  {
   "cell_type": "markdown",
   "metadata": {},
   "source": [
    "Min images"
   ]
  },
  {
   "cell_type": "code",
   "execution_count": null,
   "metadata": {},
   "outputs": [
    {
     "data": {
      "text/plain": [
       "[[273, 184], [299, 168], [276, 182]]"
      ]
     },
     "execution_count": 6,
     "metadata": {},
     "output_type": "execute_result"
    }
   ],
   "source": [
    "max_s = 10000000000\n",
    "for s in sheeps:\n",
    "    if (s[\"width\"]*s[\"height\"] <  max_s):\n",
    "        max_s = s[\"width\"]*s[\"height\"]\n",
    "s_t = []\n",
    "for s in sheeps:\n",
    "    if (s[\"width\"]*s[\"height\"] ==  max_s):\n",
    "        s_t.append([s[\"width\"],s[\"height\"]])\n",
    "s_t"
   ]
  },
  {
   "cell_type": "markdown",
   "metadata": {},
   "source": [
    "### Prepare Data"
   ]
  },
  {
   "cell_type": "markdown",
   "metadata": {},
   "source": [
    "Transform to ratios"
   ]
  },
  {
   "cell_type": "code",
   "execution_count": 136,
   "metadata": {},
   "outputs": [],
   "source": [
    "for s in sheeps:\n",
    "    for j in s[\"objects\"]:\n",
    "        for n in range(2):\n",
    "            j[n] /= s[\"width\"]\n",
    "        for n in range(2, 4):\n",
    "            j[n] /= s[\"height\"]   "
   ]
  },
  {
   "cell_type": "code",
   "execution_count": 137,
   "metadata": {},
   "outputs": [],
   "source": [
    "X = []\n",
    "for s in sheeps:\n",
    "    X.append(s[\"image\"])\n",
    "X = np.array(X)"
   ]
  },
  {
   "cell_type": "markdown",
   "metadata": {},
   "source": [
    "Lets use 6 maximum bounding boxes with (xmin, xmax, ymin, ymax) coords"
   ]
  },
  {
   "cell_type": "code",
   "execution_count": 138,
   "metadata": {},
   "outputs": [],
   "source": [
    "arrs = []\n",
    "for s in sheeps:\n",
    "    z = np.zeros(24)\n",
    "    for idx, o in enumerate(s[\"objects\"]):\n",
    "        for j in range(4):\n",
    "            z[idx*4+j]= o[j]\n",
    "    arrs.append(z)\n",
    "arrs = np.array(arrs)\n",
    "y = arrs.copy()"
   ]
  },
  {
   "cell_type": "markdown",
   "metadata": {},
   "source": [
    "Divide on train validation and test sets"
   ]
  },
  {
   "cell_type": "code",
   "execution_count": 139,
   "metadata": {},
   "outputs": [],
   "source": [
    "X_train, X_test, y_train, y_test = train_test_split(X, y, test_size=0.25)\n",
    "X_test, X_val, y_test, y_val = train_test_split(X_test, y_test, test_size=0.5)"
   ]
  },
  {
   "cell_type": "markdown",
   "metadata": {},
   "source": [
    "### Array with 10 bounding boxes"
   ]
  },
  {
   "cell_type": "code",
   "execution_count": 140,
   "metadata": {},
   "outputs": [],
   "source": [
    "import keras\n",
    "from keras.models import Sequential\n",
    "from keras.layers import Conv2D, Dense, Flatten, Input, MaxPooling2D, BatchNormalization, Dropout\n",
    "from keras.callbacks import ModelCheckpoint\n",
    "from keras.models import load_model"
   ]
  },
  {
   "cell_type": "code",
   "execution_count": 141,
   "metadata": {},
   "outputs": [
    {
     "name": "stdout",
     "output_type": "stream",
     "text": [
      "Model: \"sequential_20\"\n",
      "_________________________________________________________________\n",
      " Layer (type)                Output Shape              Param #   \n",
      "=================================================================\n",
      " conv2d_147 (Conv2D)         (None, 271, 271, 64)      1792      \n",
      "                                                                 \n",
      " max_pooling2d_82 (MaxPoolin  (None, 135, 135, 64)     0         \n",
      " g2D)                                                            \n",
      "                                                                 \n",
      " conv2d_148 (Conv2D)         (None, 133, 133, 32)      18464     \n",
      "                                                                 \n",
      " max_pooling2d_83 (MaxPoolin  (None, 66, 66, 32)       0         \n",
      " g2D)                                                            \n",
      "                                                                 \n",
      " conv2d_149 (Conv2D)         (None, 64, 64, 16)        4624      \n",
      "                                                                 \n",
      " max_pooling2d_84 (MaxPoolin  (None, 32, 32, 16)       0         \n",
      " g2D)                                                            \n",
      "                                                                 \n",
      " conv2d_150 (Conv2D)         (None, 31, 31, 8)         520       \n",
      "                                                                 \n",
      " max_pooling2d_85 (MaxPoolin  (None, 15, 15, 8)        0         \n",
      " g2D)                                                            \n",
      "                                                                 \n",
      " dropout_44 (Dropout)        (None, 15, 15, 8)         0         \n",
      "                                                                 \n",
      " conv2d_151 (Conv2D)         (None, 14, 14, 1)         33        \n",
      "                                                                 \n",
      " max_pooling2d_86 (MaxPoolin  (None, 7, 7, 1)          0         \n",
      " g2D)                                                            \n",
      "                                                                 \n",
      " flatten_3 (Flatten)         (None, 49)                0         \n",
      "                                                                 \n",
      " dense_8 (Dense)             (None, 128)               6400      \n",
      "                                                                 \n",
      " dense_9 (Dense)             (None, 32)                4128      \n",
      "                                                                 \n",
      " dense_10 (Dense)            (None, 24)                792       \n",
      "                                                                 \n",
      "=================================================================\n",
      "Total params: 36,753\n",
      "Trainable params: 36,753\n",
      "Non-trainable params: 0\n",
      "_________________________________________________________________\n"
     ]
    }
   ],
   "source": [
    "model = Sequential()\n",
    "model.add(Input((273, 273, 3)))\n",
    "model.add(Conv2D(64, (3, 3), (1, 1), activation=\"relu\"))\n",
    "model.add(MaxPooling2D())\n",
    "model.add(Conv2D(32, (3, 3), (1, 1), activation=\"relu\"))\n",
    "model.add(MaxPooling2D())\n",
    "model.add(Conv2D(16, (3, 3), (1, 1), activation=\"relu\"))\n",
    "model.add(MaxPooling2D())\n",
    "model.add(Conv2D(8, (2, 2), (1, 1), activation=\"relu\"))\n",
    "model.add(MaxPooling2D())\n",
    "model.add(Dropout(0.25))\n",
    "model.add(Conv2D(1, (2, 2), (1, 1), activation=\"relu\"))\n",
    "model.add(MaxPooling2D())\n",
    "model.add(Flatten())\n",
    "model.add(Dense(128, activation=\"relu\"))\n",
    "model.add(Dense(32, activation=\"relu\"))\n",
    "model.add(Dense(24, activation=\"sigmoid\"))\n",
    "\n",
    "saver = ModelCheckpoint(\"CNNSheeps4_10\")\n",
    "model.compile(loss=\"mse\")\n",
    "model.summary()\n",
    "model_40 = model\n"
   ]
  },
  {
   "cell_type": "code",
   "execution_count": 142,
   "metadata": {},
   "outputs": [],
   "source": [
    "#function with results \n",
    "def show_results(history):\n",
    "    plt.plot(history.history[\"loss\"])\n",
    "    plt.plot(history.history[\"val_loss\"])\n",
    "    plt.legend([\"train loss\", \"validation loss\"])\n",
    "    plt.show()"
   ]
  },
  {
   "cell_type": "code",
   "execution_count": 143,
   "metadata": {},
   "outputs": [
    {
     "name": "stdout",
     "output_type": "stream",
     "text": [
      "Epoch 1/10\n",
      "4/4 [==============================] - ETA: 0s - loss: 0.2159"
     ]
    },
    {
     "name": "stderr",
     "output_type": "stream",
     "text": [
      "WARNING:absl:Found untraced functions such as _jit_compiled_convolution_op, _jit_compiled_convolution_op, _jit_compiled_convolution_op, _jit_compiled_convolution_op, _jit_compiled_convolution_op while saving (showing 5 of 6). These functions will not be directly callable after loading.\n"
     ]
    },
    {
     "name": "stdout",
     "output_type": "stream",
     "text": [
      "INFO:tensorflow:Assets written to: CNNSheeps4_10\\assets\n"
     ]
    },
    {
     "name": "stderr",
     "output_type": "stream",
     "text": [
      "INFO:tensorflow:Assets written to: CNNSheeps4_10\\assets\n"
     ]
    },
    {
     "name": "stdout",
     "output_type": "stream",
     "text": [
      "4/4 [==============================] - 5s 1s/step - loss: 0.2159 - val_loss: 0.2016\n",
      "Epoch 2/10\n",
      "4/4 [==============================] - ETA: 0s - loss: 0.2115"
     ]
    },
    {
     "name": "stderr",
     "output_type": "stream",
     "text": [
      "WARNING:absl:Found untraced functions such as _jit_compiled_convolution_op, _jit_compiled_convolution_op, _jit_compiled_convolution_op, _jit_compiled_convolution_op, _jit_compiled_convolution_op while saving (showing 5 of 6). These functions will not be directly callable after loading.\n"
     ]
    },
    {
     "name": "stdout",
     "output_type": "stream",
     "text": [
      "INFO:tensorflow:Assets written to: CNNSheeps4_10\\assets\n"
     ]
    },
    {
     "name": "stderr",
     "output_type": "stream",
     "text": [
      "INFO:tensorflow:Assets written to: CNNSheeps4_10\\assets\n"
     ]
    },
    {
     "name": "stdout",
     "output_type": "stream",
     "text": [
      "4/4 [==============================] - 5s 1s/step - loss: 0.2115 - val_loss: 0.1985\n",
      "Epoch 3/10\n",
      "4/4 [==============================] - ETA: 0s - loss: 0.1937"
     ]
    },
    {
     "name": "stderr",
     "output_type": "stream",
     "text": [
      "WARNING:absl:Found untraced functions such as _jit_compiled_convolution_op, _jit_compiled_convolution_op, _jit_compiled_convolution_op, _jit_compiled_convolution_op, _jit_compiled_convolution_op while saving (showing 5 of 6). These functions will not be directly callable after loading.\n"
     ]
    },
    {
     "name": "stdout",
     "output_type": "stream",
     "text": [
      "INFO:tensorflow:Assets written to: CNNSheeps4_10\\assets\n"
     ]
    },
    {
     "name": "stderr",
     "output_type": "stream",
     "text": [
      "INFO:tensorflow:Assets written to: CNNSheeps4_10\\assets\n"
     ]
    },
    {
     "name": "stdout",
     "output_type": "stream",
     "text": [
      "4/4 [==============================] - 6s 1s/step - loss: 0.1937 - val_loss: 0.1605\n",
      "Epoch 4/10\n",
      "4/4 [==============================] - ETA: 0s - loss: 0.1108"
     ]
    },
    {
     "name": "stderr",
     "output_type": "stream",
     "text": [
      "WARNING:absl:Found untraced functions such as _jit_compiled_convolution_op, _jit_compiled_convolution_op, _jit_compiled_convolution_op, _jit_compiled_convolution_op, _jit_compiled_convolution_op while saving (showing 5 of 6). These functions will not be directly callable after loading.\n"
     ]
    },
    {
     "name": "stdout",
     "output_type": "stream",
     "text": [
      "INFO:tensorflow:Assets written to: CNNSheeps4_10\\assets\n"
     ]
    },
    {
     "name": "stderr",
     "output_type": "stream",
     "text": [
      "INFO:tensorflow:Assets written to: CNNSheeps4_10\\assets\n"
     ]
    },
    {
     "name": "stdout",
     "output_type": "stream",
     "text": [
      "4/4 [==============================] - 5s 1s/step - loss: 0.1108 - val_loss: 0.0733\n",
      "Epoch 5/10\n",
      "4/4 [==============================] - ETA: 0s - loss: 0.0424"
     ]
    },
    {
     "name": "stderr",
     "output_type": "stream",
     "text": [
      "WARNING:absl:Found untraced functions such as _jit_compiled_convolution_op, _jit_compiled_convolution_op, _jit_compiled_convolution_op, _jit_compiled_convolution_op, _jit_compiled_convolution_op while saving (showing 5 of 6). These functions will not be directly callable after loading.\n"
     ]
    },
    {
     "name": "stdout",
     "output_type": "stream",
     "text": [
      "INFO:tensorflow:Assets written to: CNNSheeps4_10\\assets\n"
     ]
    },
    {
     "name": "stderr",
     "output_type": "stream",
     "text": [
      "INFO:tensorflow:Assets written to: CNNSheeps4_10\\assets\n"
     ]
    },
    {
     "name": "stdout",
     "output_type": "stream",
     "text": [
      "4/4 [==============================] - 5s 1s/step - loss: 0.0424 - val_loss: 0.0594\n",
      "Epoch 6/10\n",
      "4/4 [==============================] - ETA: 0s - loss: 0.0347"
     ]
    },
    {
     "name": "stderr",
     "output_type": "stream",
     "text": [
      "WARNING:absl:Found untraced functions such as _jit_compiled_convolution_op, _jit_compiled_convolution_op, _jit_compiled_convolution_op, _jit_compiled_convolution_op, _jit_compiled_convolution_op while saving (showing 5 of 6). These functions will not be directly callable after loading.\n"
     ]
    },
    {
     "name": "stdout",
     "output_type": "stream",
     "text": [
      "INFO:tensorflow:Assets written to: CNNSheeps4_10\\assets\n"
     ]
    },
    {
     "name": "stderr",
     "output_type": "stream",
     "text": [
      "INFO:tensorflow:Assets written to: CNNSheeps4_10\\assets\n"
     ]
    },
    {
     "name": "stdout",
     "output_type": "stream",
     "text": [
      "4/4 [==============================] - 5s 1s/step - loss: 0.0347 - val_loss: 0.0515\n",
      "Epoch 7/10\n",
      "4/4 [==============================] - ETA: 0s - loss: 0.0289"
     ]
    },
    {
     "name": "stderr",
     "output_type": "stream",
     "text": [
      "WARNING:absl:Found untraced functions such as _jit_compiled_convolution_op, _jit_compiled_convolution_op, _jit_compiled_convolution_op, _jit_compiled_convolution_op, _jit_compiled_convolution_op while saving (showing 5 of 6). These functions will not be directly callable after loading.\n"
     ]
    },
    {
     "name": "stdout",
     "output_type": "stream",
     "text": [
      "INFO:tensorflow:Assets written to: CNNSheeps4_10\\assets\n"
     ]
    },
    {
     "name": "stderr",
     "output_type": "stream",
     "text": [
      "INFO:tensorflow:Assets written to: CNNSheeps4_10\\assets\n"
     ]
    },
    {
     "name": "stdout",
     "output_type": "stream",
     "text": [
      "4/4 [==============================] - 5s 1s/step - loss: 0.0289 - val_loss: 0.0509\n",
      "Epoch 8/10\n",
      "4/4 [==============================] - ETA: 0s - loss: 0.0282"
     ]
    },
    {
     "name": "stderr",
     "output_type": "stream",
     "text": [
      "WARNING:absl:Found untraced functions such as _jit_compiled_convolution_op, _jit_compiled_convolution_op, _jit_compiled_convolution_op, _jit_compiled_convolution_op, _jit_compiled_convolution_op while saving (showing 5 of 6). These functions will not be directly callable after loading.\n"
     ]
    },
    {
     "name": "stdout",
     "output_type": "stream",
     "text": [
      "INFO:tensorflow:Assets written to: CNNSheeps4_10\\assets\n"
     ]
    },
    {
     "name": "stderr",
     "output_type": "stream",
     "text": [
      "INFO:tensorflow:Assets written to: CNNSheeps4_10\\assets\n"
     ]
    },
    {
     "name": "stdout",
     "output_type": "stream",
     "text": [
      "4/4 [==============================] - 5s 1s/step - loss: 0.0282 - val_loss: 0.0566\n",
      "Epoch 9/10\n",
      "4/4 [==============================] - ETA: 0s - loss: 0.0305"
     ]
    },
    {
     "name": "stderr",
     "output_type": "stream",
     "text": [
      "WARNING:absl:Found untraced functions such as _jit_compiled_convolution_op, _jit_compiled_convolution_op, _jit_compiled_convolution_op, _jit_compiled_convolution_op, _jit_compiled_convolution_op while saving (showing 5 of 6). These functions will not be directly callable after loading.\n"
     ]
    },
    {
     "name": "stdout",
     "output_type": "stream",
     "text": [
      "INFO:tensorflow:Assets written to: CNNSheeps4_10\\assets\n"
     ]
    },
    {
     "name": "stderr",
     "output_type": "stream",
     "text": [
      "INFO:tensorflow:Assets written to: CNNSheeps4_10\\assets\n"
     ]
    },
    {
     "name": "stdout",
     "output_type": "stream",
     "text": [
      "4/4 [==============================] - 5s 1s/step - loss: 0.0305 - val_loss: 0.0576\n",
      "Epoch 10/10\n",
      "4/4 [==============================] - ETA: 0s - loss: 0.0311"
     ]
    },
    {
     "name": "stderr",
     "output_type": "stream",
     "text": [
      "WARNING:absl:Found untraced functions such as _jit_compiled_convolution_op, _jit_compiled_convolution_op, _jit_compiled_convolution_op, _jit_compiled_convolution_op, _jit_compiled_convolution_op while saving (showing 5 of 6). These functions will not be directly callable after loading.\n"
     ]
    },
    {
     "name": "stdout",
     "output_type": "stream",
     "text": [
      "INFO:tensorflow:Assets written to: CNNSheeps4_10\\assets\n"
     ]
    },
    {
     "name": "stderr",
     "output_type": "stream",
     "text": [
      "INFO:tensorflow:Assets written to: CNNSheeps4_10\\assets\n"
     ]
    },
    {
     "name": "stdout",
     "output_type": "stream",
     "text": [
      "4/4 [==============================] - 5s 1s/step - loss: 0.0311 - val_loss: 0.0517\n"
     ]
    },
    {
     "data": {
      "image/png": "[encoded data removed]",
      "text/plain": [
       "<Figure size 640x480 with 1 Axes>"
      ]
     },
     "metadata": {},
     "output_type": "display_data"
    }
   ],
   "source": [
    "mode = \"train\"\n",
    "if (mode == \"train\"):\n",
    "    hist = model_40.fit(X_train, y_train, validation_data=(X_val, y_val), epochs=10, callbacks=[saver])\n",
    "    show_results(hist)\n",
    "else:\n",
    "    model_40 = load_model(\"CNNSheeps4_10\")"
   ]
  },
  {
   "cell_type": "markdown",
   "metadata": {},
   "source": [
    "Lets see predicted values and real"
   ]
  },
  {
   "cell_type": "code",
   "execution_count": 144,
   "metadata": {},
   "outputs": [
    {
     "name": "stdout",
     "output_type": "stream",
     "text": [
      "1/1 [==============================] - 0s 83ms/step\n"
     ]
    },
    {
     "data": {
      "text/plain": [
       "array([[2.90550143e-01, 8.11652541e-01, 1.59414873e-01, 8.77198279e-01],\n",
       "       [9.31317806e-02, 1.99163303e-01, 5.95898554e-02, 2.51358122e-01],\n",
       "       [1.04862496e-01, 1.73356023e-03, 4.74864841e-02, 6.12227470e-02],\n",
       "       [3.12652141e-02, 4.92111668e-02, 2.23346855e-02, 3.85800377e-02],\n",
       "       [3.82332243e-02, 8.15325999e-04, 2.12317146e-02, 2.70997286e-02],\n",
       "       [2.23121550e-02, 7.78645417e-03, 4.10289504e-02, 1.32905247e-04]],\n",
       "      dtype=float32)"
      ]
     },
     "execution_count": 144,
     "metadata": {},
     "output_type": "execute_result"
    }
   ],
   "source": [
    "model_40.predict(np.array([X_test[0]]))[0].reshape(6, 4)"
   ]
  },
  {
   "cell_type": "code",
   "execution_count": 145,
   "metadata": {},
   "outputs": [
    {
     "data": {
      "text/plain": [
       "array([[0.05882353, 0.93048128, 0.1037037 , 0.86666667],\n",
       "       [0.        , 0.        , 0.        , 0.        ],\n",
       "       [0.        , 0.        , 0.        , 0.        ],\n",
       "       [0.        , 0.        , 0.        , 0.        ],\n",
       "       [0.        , 0.        , 0.        , 0.        ],\n",
       "       [0.        , 0.        , 0.        , 0.        ]])"
      ]
     },
     "execution_count": 145,
     "metadata": {},
     "output_type": "execute_result"
    }
   ],
   "source": [
    "y_test[0].reshape(6, 4)"
   ]
  },
  {
   "cell_type": "markdown",
   "metadata": {},
   "source": [
    "Lets delete inadequate boxes and see results:"
   ]
  },
  {
   "cell_type": "code",
   "execution_count": 148,
   "metadata": {},
   "outputs": [
    {
     "name": "stdout",
     "output_type": "stream",
     "text": [
      "1/1 [==============================] - 0s 29ms/step\n",
      "Predicted box:  [[25, 54, 16, 68], [79, 221, 43, 239]]\n",
      "Real box:  [[16, 254, 28, 236]]\n",
      "1/1 [==============================] - 0s 29ms/step\n",
      "Predicted box:  [[53, 87, 15, 55], [120, 225, 59, 225]]\n",
      "Real box:  [[0, 146, 4, 270], [128, 273, 2, 271]]\n",
      "1/1 [==============================] - 0s 31ms/step\n",
      "Predicted box:  [[27, 66, 15, 58], [84, 214, 40, 229]]\n",
      "Real box:  [[6, 266, 30, 257]]\n",
      "1/1 [==============================] - 0s 32ms/step\n",
      "Predicted box:  [[119, 226, 69, 256]]\n",
      "Real box:  [[21, 167, 73, 243]]\n",
      "1/1 [==============================] - 0s 30ms/step\n",
      "Predicted box:  [[35, 60, 22, 84], [96, 213, 39, 213]]\n",
      "Real box:  [[0, 272, 13, 254]]\n",
      "1/1 [==============================] - 0s 32ms/step\n",
      "Predicted box:  [[34, 56, 35, 77], [103, 216, 65, 242]]\n",
      "Real box:  [[49, 273, 69, 273]]\n",
      "1/1 [==============================] - 0s 39ms/step\n",
      "Predicted box:  [[29, 59, 18, 81], [64, 206, 56, 215]]\n",
      "Real box:  [[34, 214, 14, 264]]\n",
      "1/1 [==============================] - 0s 35ms/step\n",
      "Predicted box:  [[24, 67, 19, 64], [103, 223, 55, 228]]\n",
      "Real box:  [[122, 164, 97, 202], [173, 240, 87, 238]]\n",
      "1/1 [==============================] - 0s 30ms/step\n",
      "Predicted box:  [[17, 45, 12, 64], [87, 228, 55, 244]]\n",
      "Real box:  [[24, 260, 39, 252]]\n",
      "1/1 [==============================] - 0s 32ms/step\n",
      "Predicted box:  [[43, 56, 24, 72], [100, 206, 79, 244]]\n",
      "Real box:  [[0, 174, 26, 273]]\n",
      "1/1 [==============================] - 0s 32ms/step\n",
      "Predicted box:  [[30, 58, 22, 84], [103, 219, 52, 223]]\n",
      "Real box:  [[75, 187, 28, 265]]\n",
      "1/1 [==============================] - 0s 33ms/step\n",
      "Predicted box:  [[44, 68, 26, 63], [103, 218, 58, 232]]\n",
      "Real box:  [[35, 191, 28, 273]]\n",
      "1/1 [==============================] - 0s 30ms/step\n",
      "Predicted box:  [[49, 92, 22, 74], [98, 217, 43, 213]]\n",
      "Real box:  [[85, 234, 59, 247]]\n",
      "1/1 [==============================] - 0s 28ms/step\n",
      "Predicted box:  [[20, 58, 24, 80], [113, 221, 57, 229]]\n",
      "Real box:  [[62, 237, 18, 266]]\n",
      "1/1 [==============================] - 0s 28ms/step\n",
      "Predicted box:  [[50, 64, 44, 86], [114, 203, 90, 214]]\n",
      "Real box:  [[71, 208, 75, 252], [73, 142, 19, 99]]\n",
      "1/1 [==============================] - 0s 29ms/step\n",
      "Predicted box:  [[39, 70, 14, 57], [79, 232, 63, 256]]\n",
      "Real box:  [[39, 120, 146, 254], [40, 239, 12, 237]]\n",
      "1/1 [==============================] - 0s 27ms/step\n",
      "Predicted box:  [[26, 47, 19, 56], [105, 209, 79, 239]]\n",
      "Real box:  [[39, 203, 44, 273]]\n"
     ]
    }
   ],
   "source": [
    "def processs_results(r=0):\n",
    "    predicted = model_40.predict(np.array([X_test[r]]))[0].reshape(6, 4)\n",
    "    real = y_test[r].reshape(6, 4)\n",
    "    processed_box = []\n",
    "    real_box = []\n",
    "    for i in range(6):\n",
    "        coords = [min(272, int(i*273)) for i in predicted[i]]\n",
    "        if (abs(coords[0]-coords[1]) < 5 or abs(coords[2]-coords[3]) < 5):\n",
    "            continue\n",
    "        if (coords[0] > coords[1] or coords[2] > coords[3]):\n",
    "            continue\n",
    "        processed_box.append(coords)\n",
    "        coords = [int(i*273) for i in real[i]]\n",
    "        if (abs(coords[0]-coords[1]) < 5 or abs(coords[2]-coords[3]) < 5):\n",
    "            continue\n",
    "        if (coords[0] > coords[1] or coords[2] > coords[3]):\n",
    "            continue\n",
    "        real_box.append(coords)\n",
    "    return sorted(processed_box), sorted(real_box)\n",
    "for j in range(len(X_test)):\n",
    "    a, b = processs_results(j)\n",
    "    print(\"Predicted box: \", a)\n",
    "    print(\"Real box: \", b)"
   ]
  },
  {
   "cell_type": "markdown",
   "metadata": {},
   "source": [
    "Prepare images with boxes. "
   ]
  },
  {
   "cell_type": "code",
   "execution_count": 149,
   "metadata": {},
   "outputs": [],
   "source": [
    "def show_image_result(test_num):\n",
    "    processed_box, real_box = processs_results(r=test_num)\n",
    "    print(processed_box, real_box)\n",
    "    img = X_test[test_num].copy()\n",
    "    for coords1 in processed_box:\n",
    "        img = cv2.rectangle(img, (coords1[0], coords1[2]), (coords1[1], coords1[3]), ( 255, 0, 0 ), 3)\n",
    "    for coords1 in real_box:\n",
    "        img = cv2.rectangle(img, (coords1[0], coords1[2]), (coords1[1], coords1[3]), ( 0, 255, 255 ), 3)\n",
    "    cv2.imshow(\"wret\", img)\n",
    "    cv2.waitKey(0)\n",
    "    cv2.destroyAllWindows()"
   ]
  },
  {
   "cell_type": "markdown",
   "metadata": {},
   "source": [
    "To show result of execution choose number of image and run cell"
   ]
  },
  {
   "cell_type": "code",
   "execution_count": 152,
   "metadata": {},
   "outputs": [
    {
     "name": "stdout",
     "output_type": "stream",
     "text": [
      "1/1 [==============================] - 0s 45ms/step\n",
      "[[49, 92, 22, 74], [98, 217, 43, 213]] [[85, 234, 59, 247]]\n"
     ]
    }
   ],
   "source": [
    "t = 12\n",
    "show_image_result(t)"
   ]
  },
  {
   "cell_type": "code",
   "execution_count": 155,
   "metadata": {},
   "outputs": [
    {
     "name": "stdout",
     "output_type": "stream",
     "text": [
      "1/1 [==============================] - 0s 35ms/step\n",
      "1/1 [==============================] - 0s 36ms/step\n",
      "1/1 [==============================] - 0s 32ms/step\n",
      "1/1 [==============================] - 0s 33ms/step\n",
      "1/1 [==============================] - 0s 32ms/step\n",
      "1/1 [==============================] - 0s 34ms/step\n",
      "1/1 [==============================] - 0s 32ms/step\n",
      "1/1 [==============================] - 0s 30ms/step\n",
      "1/1 [==============================] - 0s 33ms/step\n",
      "1/1 [==============================] - 0s 31ms/step\n",
      "1/1 [==============================] - 0s 31ms/step\n",
      "1/1 [==============================] - 0s 33ms/step\n",
      "1/1 [==============================] - 0s 30ms/step\n",
      "1/1 [==============================] - 0s 29ms/step\n",
      "1/1 [==============================] - 0s 30ms/step\n",
      "1/1 [==============================] - 0s 30ms/step\n",
      "1/1 [==============================] - 0s 33ms/step\n"
     ]
    },
    {
     "data": {
      "text/plain": [
       "12"
      ]
     },
     "execution_count": 155,
     "metadata": {},
     "output_type": "execute_result"
    }
   ],
   "source": [
    "c = 0\n",
    "for i in range(len(X_test)):\n",
    "    processed_box, real_box = processs_results(i)\n",
    "    c += abs(len(processed_box)-len(real_box))\n",
    "count_difference = c\n",
    "count_difference"
   ]
  },
  {
   "cell_type": "code",
   "execution_count": 171,
   "metadata": {},
   "outputs": [
    {
     "name": "stdout",
     "output_type": "stream",
     "text": [
      "IMAGE  0\n",
      "1/1 [==============================] - 0s 37ms/step\n",
      "[0.023268875872582844, 0.5488884438213499]\n",
      "IMAGE  1\n",
      "1/1 [==============================] - 0s 35ms/step\n",
      "[0.03501905448552889, 0.39922643988793294]\n",
      "IMAGE  2\n",
      "1/1 [==============================] - 0s 36ms/step\n",
      "[0.0183206106870229, 0.41629955947136565]\n",
      "IMAGE  3\n",
      "1/1 [==============================] - 0s 33ms/step\n",
      "[0.22253129346314326]\n",
      "IMAGE  4\n",
      "1/1 [==============================] - 0s 37ms/step\n",
      "[0.023645350256285086, 0.3105626067854528]\n",
      "IMAGE  5\n",
      "1/1 [==============================] - 0s 33ms/step\n",
      "[0.0012026458208057728, 0.42361532460778367]\n",
      "IMAGE  6\n",
      "1/1 [==============================] - 0s 32ms/step\n",
      "[0.03475670307845084, 0.5017333333333334]\n",
      "IMAGE  7\n",
      "1/1 [==============================] - 0s 35ms/step\n",
      "[0.0, 0.29588282200864563]\n",
      "IMAGE  8\n",
      "1/1 [==============================] - 0s 35ms/step\n",
      "[0.010254106525518076, 0.5301384578658391]\n",
      "IMAGE  9\n",
      "1/1 [==============================] - 0s 35ms/step\n",
      "[0.013905683192261185, 0.25301504413775955]\n",
      "IMAGE  10\n",
      "1/1 [==============================] - 0s 50ms/step\n",
      "[0.0, 0.44865067466266867]\n",
      "IMAGE  11\n",
      "1/1 [==============================] - 0s 30ms/step\n",
      "[0.021950454687989965, 0.35677338179784707]\n",
      "IMAGE  12\n",
      "1/1 [==============================] - 0s 31ms/step\n",
      "[0.003483395813289984, 0.6125818959753978]\n",
      "IMAGE  13\n",
      "1/1 [==============================] - 0s 31ms/step\n",
      "[0.0, 0.4280184331797235]\n",
      "IMAGE  14\n",
      "1/1 [==============================] - 0s 31ms/step\n",
      "[0.0, 0.45511155099179346]\n",
      "IMAGE  15\n",
      "1/1 [==============================] - 0s 36ms/step\n",
      "[0.028783078227497882, 0.5583238958097395]\n",
      "IMAGE  16\n",
      "1/1 [==============================] - 0s 32ms/step\n",
      "[0.0025106572168318644, 0.4071035413853983]\n",
      "AVERAGE IoU  0.22380476712270422\n",
      "BOX with 50% accuracy  5\n",
      "Confidence level  0.9710781270875776\n"
     ]
    }
   ],
   "source": [
    "def sq_inter(boxa, boxb):\n",
    "    a = max(0, min(boxa[1], boxb[1])-max(boxa[0], boxb[0]))\n",
    "    b = max(0, min(boxa[3], boxb[3])-max(boxa[2], boxb[2]))\n",
    "    return a*b\n",
    "\n",
    "def sq_outer(boxa, boxb):\n",
    "    a = (boxa[1]-boxa[0])*(boxa[3]-boxa[2])\n",
    "    b = (boxb[1]-boxb[0])*(boxb[3]-boxb[2])\n",
    "    i = sq_inter(boxa, boxb)\n",
    "    return a+b-i\n",
    "\n",
    "def iou(boxa, boxb):\n",
    "    out = sq_outer(boxa, boxb)\n",
    "    ini = sq_inter(boxa, boxb)\n",
    "    if (out == 0):\n",
    "        return -1\n",
    "    return ini/out\n",
    "\n",
    "c = 0\n",
    "mc = []\n",
    "m50 = 0\n",
    "probs = []\n",
    "for i in range(len(X_test)):\n",
    "    print(\"IMAGE \", i)\n",
    "    processed_box, real_box = processs_results(i)\n",
    "    metricses = []\n",
    "    for pred in processed_box:\n",
    "        ms = []\n",
    "        for real in real_box:\n",
    "            metric = iou(pred, real)\n",
    "            ms.append(metric)\n",
    "        metricses.append(max(ms))\n",
    "        if (max(ms) > 0.5):\n",
    "            m50 +=1\n",
    "        c+=1\n",
    "        mc.append(max(ms))\n",
    "    print(metricses)\n",
    "    s = sum(metricses)\n",
    "    probs_iou = [t/s for t in metricses]\n",
    "    probs.append(max(probs_iou))\n",
    "\n",
    "print(\"AVERAGE IoU \", sum(mc)/c)\n",
    "print(\"BOX with 50% accuracy \", m50)\n",
    "print(\"Confidence level \", sum(probs)/17)"
   ]
  },
  {
   "cell_type": "markdown",
   "metadata": {},
   "source": [
    "As we see, our model returns 2 boxes from left border and the second is slighly similar to target.\n",
    "\n",
    "Overall results of model (CD - count difference):\n",
    "\n",
    "MSE: 0.0517\n",
    "\n",
    "CD: 12\n",
    "\n",
    "avg IoU: 0.223\n",
    "\n",
    "boxes with ioU > 50% : 5 from 17 images\n",
    "\n",
    "Confidence level for iamges with one sheep: 0.97\n"
   ]
  },
  {
   "cell_type": "markdown",
   "metadata": {},
   "source": [
    "## Masking"
   ]
  },
  {
   "cell_type": "markdown",
   "metadata": {},
   "source": [
    "In this approach I use 273x273 masking matrix, where value 1 if sheep in the pixel and 0 else."
   ]
  },
  {
   "cell_type": "markdown",
   "metadata": {},
   "source": [
    "Extract masks"
   ]
  },
  {
   "cell_type": "code",
   "execution_count": null,
   "metadata": {},
   "outputs": [
    {
     "data": {
      "text/plain": [
       "(203, 273, 273)"
      ]
     },
     "execution_count": 20,
     "metadata": {},
     "output_type": "execute_result"
    }
   ],
   "source": [
    "y = []\n",
    "for sheep in sheeps:\n",
    "    for b in sheep[\"objects\"]:\n",
    "        mask = np.zeros((273, 273))\n",
    "        b = [min(273, int(i)) for i in np.array(b)*273]\n",
    "        for x in range(b[0], b[1]):\n",
    "            for t in range(b[2], b[3]):\n",
    "                mask[t][x] = 1\n",
    "    y.append(mask)\n",
    "y = np.array(y)\n",
    "y.shape"
   ]
  },
  {
   "cell_type": "code",
   "execution_count": null,
   "metadata": {},
   "outputs": [],
   "source": [
    "X_train, X_test, y_train, y_test = train_test_split(X, y, test_size=0.25)\n",
    "X_test, X_val, y_test, y_val = train_test_split(X_test, y_test, test_size=0.5)"
   ]
  },
  {
   "cell_type": "markdown",
   "metadata": {},
   "source": [
    "Build model with upsampling"
   ]
  },
  {
   "cell_type": "code",
   "execution_count": null,
   "metadata": {},
   "outputs": [],
   "source": [
    "from keras.layers import UpSampling2D, Resizing"
   ]
  },
  {
   "cell_type": "code",
   "execution_count": null,
   "metadata": {},
   "outputs": [
    {
     "name": "stdout",
     "output_type": "stream",
     "text": [
      "Model: \"sequential_17\"\n",
      "_________________________________________________________________\n",
      " Layer (type)                Output Shape              Param #   \n",
      "=================================================================\n",
      " conv2d_130 (Conv2D)         (None, 266, 266, 3)       579       \n",
      "                                                                 \n",
      " max_pooling2d_69 (MaxPoolin  (None, 133, 133, 3)      0         \n",
      " g2D)                                                            \n",
      "                                                                 \n",
      " conv2d_131 (Conv2D)         (None, 126, 126, 3)       579       \n",
      "                                                                 \n",
      " max_pooling2d_70 (MaxPoolin  (None, 63, 63, 3)        0         \n",
      " g2D)                                                            \n",
      "                                                                 \n",
      " conv2d_132 (Conv2D)         (None, 56, 56, 3)         579       \n",
      "                                                                 \n",
      " max_pooling2d_71 (MaxPoolin  (None, 28, 28, 3)        0         \n",
      " g2D)                                                            \n",
      "                                                                 \n",
      " conv2d_133 (Conv2D)         (None, 21, 21, 3)         579       \n",
      "                                                                 \n",
      " conv2d_134 (Conv2D)         (None, 14, 14, 3)         579       \n",
      "                                                                 \n",
      " dropout_40 (Dropout)        (None, 14, 14, 3)         0         \n",
      "                                                                 \n",
      " conv2d_135 (Conv2D)         (None, 12, 12, 3)         84        \n",
      "                                                                 \n",
      " dropout_41 (Dropout)        (None, 12, 12, 3)         0         \n",
      "                                                                 \n",
      " conv2d_136 (Conv2D)         (None, 11, 11, 1)         13        \n",
      "                                                                 \n",
      " up_sampling2d_16 (UpSamplin  (None, 88, 88, 1)        0         \n",
      " g2D)                                                            \n",
      "                                                                 \n",
      " resizing_16 (Resizing)      (None, 273, 273, 1)       0         \n",
      "                                                                 \n",
      "=================================================================\n",
      "Total params: 2,992\n",
      "Trainable params: 2,992\n",
      "Non-trainable params: 0\n",
      "_________________________________________________________________\n"
     ]
    }
   ],
   "source": [
    "model = Sequential()\n",
    "model.add(Input((273, 273, 3)))\n",
    "model.add(Conv2D(3, (8, 8), activation=\"relu\"))\n",
    "model.add(MaxPooling2D())\n",
    "model.add(Conv2D(3, (8, 8), activation=\"relu\"))\n",
    "model.add(MaxPooling2D())\n",
    "model.add(Conv2D(3, (8, 8), activation=\"relu\"))\n",
    "model.add(MaxPooling2D())\n",
    "model.add(Conv2D(3, (8, 8), activation=\"relu\"))\n",
    "model.add(Conv2D(3, (8, 8), activation=\"relu\"))\n",
    "model.add(Dropout(0.25))\n",
    "model.add(Conv2D(3, (3, 3), (1, 1), activation=\"relu\"))\n",
    "model.add(Dropout(0.25))\n",
    "model.add(Conv2D(1, (2, 2), (1, 1), activation=\"sigmoid\"))\n",
    "model.add(UpSampling2D((8, 8)))\n",
    "model.add(Resizing(273, 273))\n",
    "saver = ModelCheckpoint(\"CNNSheepsMASK\")\n",
    "model.compile(loss=\"mse\")\n",
    "model.summary()\n"
   ]
  },
  {
   "cell_type": "code",
   "execution_count": null,
   "metadata": {},
   "outputs": [
    {
     "name": "stdout",
     "output_type": "stream",
     "text": [
      "Epoch 1/10\n",
      "5/5 [==============================] - ETA: 0s - loss: 0.2418"
     ]
    },
    {
     "name": "stderr",
     "output_type": "stream",
     "text": [
      "WARNING:absl:Found untraced functions such as _jit_compiled_convolution_op, _jit_compiled_convolution_op, _jit_compiled_convolution_op, _jit_compiled_convolution_op, _jit_compiled_convolution_op while saving (showing 5 of 8). These functions will not be directly callable after loading.\n"
     ]
    },
    {
     "name": "stdout",
     "output_type": "stream",
     "text": [
      "INFO:tensorflow:Assets written to: CNNSheepsMASK\\assets\n"
     ]
    },
    {
     "name": "stderr",
     "output_type": "stream",
     "text": [
      "INFO:tensorflow:Assets written to: CNNSheepsMASK\\assets\n"
     ]
    },
    {
     "name": "stdout",
     "output_type": "stream",
     "text": [
      "5/5 [==============================] - 6s 1s/step - loss: 0.2418 - val_loss: 0.2213\n",
      "Epoch 2/10\n",
      "5/5 [==============================] - ETA: 0s - loss: 0.2521"
     ]
    },
    {
     "name": "stderr",
     "output_type": "stream",
     "text": [
      "WARNING:absl:Found untraced functions such as _jit_compiled_convolution_op, _jit_compiled_convolution_op, _jit_compiled_convolution_op, _jit_compiled_convolution_op, _jit_compiled_convolution_op while saving (showing 5 of 8). These functions will not be directly callable after loading.\n"
     ]
    },
    {
     "name": "stdout",
     "output_type": "stream",
     "text": [
      "INFO:tensorflow:Assets written to: CNNSheepsMASK\\assets\n"
     ]
    },
    {
     "name": "stderr",
     "output_type": "stream",
     "text": [
      "INFO:tensorflow:Assets written to: CNNSheepsMASK\\assets\n"
     ]
    },
    {
     "name": "stdout",
     "output_type": "stream",
     "text": [
      "5/5 [==============================] - 8s 2s/step - loss: 0.2521 - val_loss: 0.2257\n",
      "Epoch 3/10\n",
      "5/5 [==============================] - ETA: 0s - loss: 0.2389"
     ]
    },
    {
     "name": "stderr",
     "output_type": "stream",
     "text": [
      "WARNING:absl:Found untraced functions such as _jit_compiled_convolution_op, _jit_compiled_convolution_op, _jit_compiled_convolution_op, _jit_compiled_convolution_op, _jit_compiled_convolution_op while saving (showing 5 of 8). These functions will not be directly callable after loading.\n"
     ]
    },
    {
     "name": "stdout",
     "output_type": "stream",
     "text": [
      "INFO:tensorflow:Assets written to: CNNSheepsMASK\\assets\n"
     ]
    },
    {
     "name": "stderr",
     "output_type": "stream",
     "text": [
      "INFO:tensorflow:Assets written to: CNNSheepsMASK\\assets\n"
     ]
    },
    {
     "name": "stdout",
     "output_type": "stream",
     "text": [
      "5/5 [==============================] - 8s 2s/step - loss: 0.2389 - val_loss: 0.2161\n",
      "Epoch 4/10\n",
      "5/5 [==============================] - ETA: 0s - loss: 0.2370"
     ]
    },
    {
     "name": "stderr",
     "output_type": "stream",
     "text": [
      "WARNING:absl:Found untraced functions such as _jit_compiled_convolution_op, _jit_compiled_convolution_op, _jit_compiled_convolution_op, _jit_compiled_convolution_op, _jit_compiled_convolution_op while saving (showing 5 of 8). These functions will not be directly callable after loading.\n"
     ]
    },
    {
     "name": "stdout",
     "output_type": "stream",
     "text": [
      "INFO:tensorflow:Assets written to: CNNSheepsMASK\\assets\n"
     ]
    },
    {
     "name": "stderr",
     "output_type": "stream",
     "text": [
      "INFO:tensorflow:Assets written to: CNNSheepsMASK\\assets\n"
     ]
    },
    {
     "name": "stdout",
     "output_type": "stream",
     "text": [
      "5/5 [==============================] - 9s 2s/step - loss: 0.2370 - val_loss: 0.2331\n",
      "Epoch 5/10\n",
      "5/5 [==============================] - ETA: 0s - loss: 0.2374"
     ]
    },
    {
     "name": "stderr",
     "output_type": "stream",
     "text": [
      "WARNING:absl:Found untraced functions such as _jit_compiled_convolution_op, _jit_compiled_convolution_op, _jit_compiled_convolution_op, _jit_compiled_convolution_op, _jit_compiled_convolution_op while saving (showing 5 of 8). These functions will not be directly callable after loading.\n"
     ]
    },
    {
     "name": "stdout",
     "output_type": "stream",
     "text": [
      "INFO:tensorflow:Assets written to: CNNSheepsMASK\\assets\n"
     ]
    },
    {
     "name": "stderr",
     "output_type": "stream",
     "text": [
      "INFO:tensorflow:Assets written to: CNNSheepsMASK\\assets\n"
     ]
    },
    {
     "name": "stdout",
     "output_type": "stream",
     "text": [
      "5/5 [==============================] - 9s 2s/step - loss: 0.2374 - val_loss: 0.2221\n",
      "Epoch 6/10\n",
      "5/5 [==============================] - ETA: 0s - loss: 0.2350"
     ]
    },
    {
     "name": "stderr",
     "output_type": "stream",
     "text": [
      "WARNING:absl:Found untraced functions such as _jit_compiled_convolution_op, _jit_compiled_convolution_op, _jit_compiled_convolution_op, _jit_compiled_convolution_op, _jit_compiled_convolution_op while saving (showing 5 of 8). These functions will not be directly callable after loading.\n"
     ]
    },
    {
     "name": "stdout",
     "output_type": "stream",
     "text": [
      "INFO:tensorflow:Assets written to: CNNSheepsMASK\\assets\n"
     ]
    },
    {
     "name": "stderr",
     "output_type": "stream",
     "text": [
      "INFO:tensorflow:Assets written to: CNNSheepsMASK\\assets\n"
     ]
    },
    {
     "name": "stdout",
     "output_type": "stream",
     "text": [
      "5/5 [==============================] - 9s 2s/step - loss: 0.2350 - val_loss: 0.2063\n",
      "Epoch 7/10\n",
      "5/5 [==============================] - ETA: 0s - loss: 0.2342"
     ]
    },
    {
     "name": "stderr",
     "output_type": "stream",
     "text": [
      "WARNING:absl:Found untraced functions such as _jit_compiled_convolution_op, _jit_compiled_convolution_op, _jit_compiled_convolution_op, _jit_compiled_convolution_op, _jit_compiled_convolution_op while saving (showing 5 of 8). These functions will not be directly callable after loading.\n"
     ]
    },
    {
     "name": "stdout",
     "output_type": "stream",
     "text": [
      "INFO:tensorflow:Assets written to: CNNSheepsMASK\\assets\n"
     ]
    },
    {
     "name": "stderr",
     "output_type": "stream",
     "text": [
      "INFO:tensorflow:Assets written to: CNNSheepsMASK\\assets\n"
     ]
    },
    {
     "name": "stdout",
     "output_type": "stream",
     "text": [
      "5/5 [==============================] - 9s 2s/step - loss: 0.2342 - val_loss: 0.2074\n",
      "Epoch 8/10\n",
      "5/5 [==============================] - ETA: 0s - loss: 0.2320"
     ]
    },
    {
     "name": "stderr",
     "output_type": "stream",
     "text": [
      "WARNING:absl:Found untraced functions such as _jit_compiled_convolution_op, _jit_compiled_convolution_op, _jit_compiled_convolution_op, _jit_compiled_convolution_op, _jit_compiled_convolution_op while saving (showing 5 of 8). These functions will not be directly callable after loading.\n"
     ]
    },
    {
     "name": "stdout",
     "output_type": "stream",
     "text": [
      "INFO:tensorflow:Assets written to: CNNSheepsMASK\\assets\n"
     ]
    },
    {
     "name": "stderr",
     "output_type": "stream",
     "text": [
      "INFO:tensorflow:Assets written to: CNNSheepsMASK\\assets\n"
     ]
    },
    {
     "name": "stdout",
     "output_type": "stream",
     "text": [
      "5/5 [==============================] - 9s 2s/step - loss: 0.2320 - val_loss: 0.2283\n",
      "Epoch 9/10\n",
      "5/5 [==============================] - ETA: 0s - loss: 0.2308"
     ]
    },
    {
     "name": "stderr",
     "output_type": "stream",
     "text": [
      "WARNING:absl:Found untraced functions such as _jit_compiled_convolution_op, _jit_compiled_convolution_op, _jit_compiled_convolution_op, _jit_compiled_convolution_op, _jit_compiled_convolution_op while saving (showing 5 of 8). These functions will not be directly callable after loading.\n"
     ]
    },
    {
     "name": "stdout",
     "output_type": "stream",
     "text": [
      "INFO:tensorflow:Assets written to: CNNSheepsMASK\\assets\n"
     ]
    },
    {
     "name": "stderr",
     "output_type": "stream",
     "text": [
      "INFO:tensorflow:Assets written to: CNNSheepsMASK\\assets\n"
     ]
    },
    {
     "name": "stdout",
     "output_type": "stream",
     "text": [
      "5/5 [==============================] - 9s 2s/step - loss: 0.2308 - val_loss: 0.2015\n",
      "Epoch 10/10\n",
      "5/5 [==============================] - ETA: 0s - loss: 0.2342"
     ]
    },
    {
     "name": "stderr",
     "output_type": "stream",
     "text": [
      "WARNING:absl:Found untraced functions such as _jit_compiled_convolution_op, _jit_compiled_convolution_op, _jit_compiled_convolution_op, _jit_compiled_convolution_op, _jit_compiled_convolution_op while saving (showing 5 of 8). These functions will not be directly callable after loading.\n"
     ]
    },
    {
     "name": "stdout",
     "output_type": "stream",
     "text": [
      "INFO:tensorflow:Assets written to: CNNSheepsMASK\\assets\n"
     ]
    },
    {
     "name": "stderr",
     "output_type": "stream",
     "text": [
      "INFO:tensorflow:Assets written to: CNNSheepsMASK\\assets\n"
     ]
    },
    {
     "name": "stdout",
     "output_type": "stream",
     "text": [
      "5/5 [==============================] - 9s 2s/step - loss: 0.2342 - val_loss: 0.2203\n"
     ]
    },
    {
     "data": {
      "image/png": "[encoded data removed]",
      "text/plain": [
       "<Figure size 640x480 with 1 Axes>"
      ]
     },
     "metadata": {},
     "output_type": "display_data"
    }
   ],
   "source": [
    "mode=\"train\"\n",
    "if (mode==\"train\"):\n",
    "    hist = model.fit(X_train, y_train, validation_data=(X_val, y_val), epochs=10, callbacks=[saver])\n",
    "    show_results(hist)\n",
    "else:\n",
    "    model = load_model(\"CNNSheepsMASK\")"
   ]
  },
  {
   "cell_type": "code",
   "execution_count": null,
   "metadata": {},
   "outputs": [
    {
     "name": "stdout",
     "output_type": "stream",
     "text": [
      "WARNING:tensorflow:5 out of the last 12 calls to <function Model.make_predict_function.<locals>.predict_function at 0x0000022593874C10> triggered tf.function retracing. Tracing is expensive and the excessive number of tracings could be due to (1) creating @tf.function repeatedly in a loop, (2) passing tensors with different shapes, (3) passing Python objects instead of tensors. For (1), please define your @tf.function outside of the loop. For (2), @tf.function has reduce_retracing=True option that can avoid unnecessary retracing. For (3), please refer to https://www.tensorflow.org/guide/function#controlling_retracing and https://www.tensorflow.org/api_docs/python/tf/function for  more details.\n"
     ]
    },
    {
     "name": "stderr",
     "output_type": "stream",
     "text": [
      "WARNING:tensorflow:5 out of the last 12 calls to <function Model.make_predict_function.<locals>.predict_function at 0x0000022593874C10> triggered tf.function retracing. Tracing is expensive and the excessive number of tracings could be due to (1) creating @tf.function repeatedly in a loop, (2) passing tensors with different shapes, (3) passing Python objects instead of tensors. For (1), please define your @tf.function outside of the loop. For (2), @tf.function has reduce_retracing=True option that can avoid unnecessary retracing. For (3), please refer to https://www.tensorflow.org/guide/function#controlling_retracing and https://www.tensorflow.org/api_docs/python/tf/function for  more details.\n"
     ]
    },
    {
     "name": "stdout",
     "output_type": "stream",
     "text": [
      "1/1 [==============================] - 0s 80ms/step\n"
     ]
    },
    {
     "data": {
      "text/plain": [
       "array([[[0.44949976],\n",
       "        [0.44949976],\n",
       "        [0.44949976],\n",
       "        ...,\n",
       "        [0.44958174],\n",
       "        [0.44958174],\n",
       "        [0.44958174]],\n",
       "\n",
       "       [[0.44949976],\n",
       "        [0.44949976],\n",
       "        [0.44949976],\n",
       "        ...,\n",
       "        [0.44958174],\n",
       "        [0.44958174],\n",
       "        [0.44958174]],\n",
       "\n",
       "       [[0.44949976],\n",
       "        [0.44949976],\n",
       "        [0.44949976],\n",
       "        ...,\n",
       "        [0.44958174],\n",
       "        [0.44958174],\n",
       "        [0.44958174]],\n",
       "\n",
       "       ...,\n",
       "\n",
       "       [[0.4469844 ],\n",
       "        [0.4469844 ],\n",
       "        [0.4469844 ],\n",
       "        ...,\n",
       "        [0.46360114],\n",
       "        [0.46360114],\n",
       "        [0.46360114]],\n",
       "\n",
       "       [[0.4469844 ],\n",
       "        [0.4469844 ],\n",
       "        [0.4469844 ],\n",
       "        ...,\n",
       "        [0.46360114],\n",
       "        [0.46360114],\n",
       "        [0.46360114]],\n",
       "\n",
       "       [[0.4469844 ],\n",
       "        [0.4469844 ],\n",
       "        [0.4469844 ],\n",
       "        ...,\n",
       "        [0.46360114],\n",
       "        [0.46360114],\n",
       "        [0.46360114]]], dtype=float32)"
      ]
     },
     "execution_count": 119,
     "metadata": {},
     "output_type": "execute_result"
    }
   ],
   "source": [
    "tt = model.predict(np.array([X_test[0]]))[0]\n",
    "tt"
   ]
  },
  {
   "cell_type": "code",
   "execution_count": null,
   "metadata": {},
   "outputs": [],
   "source": [
    "def processs_results_mask(r=0):\n",
    "    predicted = model.predict(np.array([X_test[r]]))[0]\n",
    "    real = y_test[r]\n",
    "    processed_box = []\n",
    "    real_box = []\n",
    "    for i in range(10):\n",
    "        coords = [min(272, int(i*273)) for i in predicted[i]]\n",
    "        if (abs(coords[0]-coords[1]) < 5 or abs(coords[2]-coords[3]) < 5):\n",
    "            continue\n",
    "        if (coords[0] > coords[1] or coords[2] > coords[3]):\n",
    "            continue\n",
    "        processed_box.append(coords)\n",
    "        coords = [int(i*273) for i in real[i]]\n",
    "        if (abs(coords[0]-coords[1]) < 5 or abs(coords[2]-coords[3]) < 5):\n",
    "            continue\n",
    "        if (coords[0] > coords[1] or coords[2] > coords[3]):\n",
    "            continue\n",
    "        real_box.append(coords)\n",
    "    return sorted(processed_box), sorted(real_box)\n",
    "for j in range(len(X_test)):\n",
    "    pass\n",
    "    #print(processs_results(j))"
   ]
  },
  {
   "cell_type": "markdown",
   "metadata": {},
   "source": [
    "Use (i - min)/(max-min) to show probability level for pixel groups.\n",
    "\n",
    "Write number of picture in t and run cell to see prediction"
   ]
  },
  {
   "cell_type": "code",
   "execution_count": null,
   "metadata": {},
   "outputs": [
    {
     "name": "stdout",
     "output_type": "stream",
     "text": [
      "1/1 [==============================] - 0s 24ms/step\n"
     ]
    }
   ],
   "source": [
    "t = 9\n",
    "y_pred = model.predict(np.array([X_test[t]]))[0]\n",
    "s = list(y_pred.reshape(273*273))\n",
    "ms = max(s)\n",
    "ls = min(s)\n",
    "s = [(i-ls)/(ms-ls) for i in s]\n",
    "y_mask = np.array(s).reshape(273, 273, 1)\n",
    "y_real = y_test[t].reshape(273, 273, 1)\n",
    "if (1):\n",
    "    cv2.imshow(\"real\", X_test[t])\n",
    "    cv2.imshow(\"mask\", y_real)\n",
    "    cv2.imshow(\"predicted\", y_mask)\n",
    "    cv2.waitKey(0)\n"
   ]
  },
  {
   "cell_type": "markdown",
   "metadata": {},
   "source": [
    "Results: \n",
    "\n",
    "MSE: 0.2203"
   ]
  },
  {
   "cell_type": "markdown",
   "metadata": {},
   "source": [
    "## Conclusion"
   ]
  },
  {
   "cell_type": "markdown",
   "metadata": {},
   "source": [
    "In this project I have tried two base algorithms on CNN - regression of bounding box coordinates and prediction of areas of pixels corrsponding to target object - sheep.\n",
    "First model can predict one sheep with average IoU 0.22.\n",
    "Next model can approximately predict areas with MSE metric 0.22\n",
    "Used dataset from Kaggle "
   ]
  }
 ],
 "metadata": {
  "kernelspec": {
   "display_name": "venv",
   "language": "python",
   "name": "venv"
  },
  "language_info": {
   "codemirror_mode": {
    "name": "ipython",
    "version": 3
   },
   "file_extension": ".py",
   "mimetype": "text/x-python",
   "name": "python",
   "nbconvert_exporter": "python",
   "pygments_lexer": "ipython3",
   "version": "3.10.5"
  },
  "orig_nbformat": 4,
  "vscode": {
   "interpreter": {
    "hash": "369f2c481f4da34e4445cda3fffd2e751bd1c4d706f27375911949ba6bb62e1c"
   }
  }
 },
 "nbformat": 4,
 "nbformat_minor": 2
}
